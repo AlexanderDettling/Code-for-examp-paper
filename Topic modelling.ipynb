{
 "cells": [
  {
   "cell_type": "code",
   "execution_count": 1,
   "id": "110ef5a1-7800-47fe-8049-b1a18b9cf0aa",
   "metadata": {},
   "outputs": [
    {
     "name": "stdout",
     "output_type": "stream",
     "text": [
      "Collecting tweetopic\n",
      "  Downloading tweetopic-0.2.2-py3-none-any.whl (17 kB)\n",
      "Requirement already satisfied: joblib>=1.1.0 in ./anaconda3/lib/python3.10/site-packages (from tweetopic) (1.1.1)\n",
      "Requirement already satisfied: numba>=0.56.0 in ./anaconda3/lib/python3.10/site-packages (from tweetopic) (0.56.4)\n",
      "Requirement already satisfied: numpy<1.24.0,>=1.19 in ./anaconda3/lib/python3.10/site-packages (from tweetopic) (1.23.5)\n",
      "Requirement already satisfied: scikit-learn<1.3.0,>=1.1.1 in ./anaconda3/lib/python3.10/site-packages (from tweetopic) (1.2.1)\n",
      "Collecting deprecated>=1.2.0\n",
      "  Downloading Deprecated-1.2.13-py2.py3-none-any.whl (9.6 kB)\n",
      "Requirement already satisfied: wrapt<2,>=1.10 in ./anaconda3/lib/python3.10/site-packages (from deprecated>=1.2.0->tweetopic) (1.14.1)\n",
      "Requirement already satisfied: llvmlite<0.40,>=0.39.0dev0 in ./anaconda3/lib/python3.10/site-packages (from numba>=0.56.0->tweetopic) (0.39.1)\n",
      "Requirement already satisfied: setuptools in ./anaconda3/lib/python3.10/site-packages (from numba>=0.56.0->tweetopic) (65.6.3)\n",
      "Requirement already satisfied: threadpoolctl>=2.0.0 in ./anaconda3/lib/python3.10/site-packages (from scikit-learn<1.3.0,>=1.1.1->tweetopic) (2.2.0)\n",
      "Requirement already satisfied: scipy>=1.3.2 in ./anaconda3/lib/python3.10/site-packages (from scikit-learn<1.3.0,>=1.1.1->tweetopic) (1.10.0)\n",
      "Installing collected packages: deprecated, tweetopic\n",
      "Successfully installed deprecated-1.2.13 tweetopic-0.2.2\n",
      "Note: you may need to restart the kernel to use updated packages.\n"
     ]
    }
   ],
   "source": [
    "%pip install tweetopic"
   ]
  },
  {
   "cell_type": "code",
   "execution_count": 24,
   "id": "1623190f-e709-40f2-8f54-808c63a3fdb2",
   "metadata": {},
   "outputs": [],
   "source": [
    "from tweetopic import DMM\n",
    "from sklearn.feature_extraction.text import CountVectorizer\n",
    "\n",
    "# We create a vectorizer for turning our corpus into a doc-term matrix\n",
    "vectorizer = CountVectorizer(min_df=5, max_df=0.9)\n",
    "\n",
    "# We initialize a topic model with 10 components\n",
    "dmm = DMM(n_components=6, alpha=0.1, beta=0.1)"
   ]
  },
  {
   "cell_type": "code",
   "execution_count": 25,
   "id": "cca229eb-5c79-4643-8f07-d09d0203dfef",
   "metadata": {},
   "outputs": [],
   "source": [
    "from sklearn.pipeline import Pipeline\n",
    "\n",
    "# Creating topic pipeline\n",
    "pipeline = Pipeline([\n",
    "    (\"vectorizer\", vectorizer),\n",
    "    (\"dmm\", dmm),\n",
    "])"
   ]
  },
  {
   "cell_type": "code",
   "execution_count": 4,
   "id": "0883493a-3ca5-45e5-a998-7505459cb6dc",
   "metadata": {},
   "outputs": [
    {
     "name": "stdout",
     "output_type": "stream",
     "text": [
      "Requirement already satisfied: pandas in ./anaconda3/lib/python3.10/site-packages (1.5.3)\n",
      "Requirement already satisfied: python-dateutil>=2.8.1 in ./anaconda3/lib/python3.10/site-packages (from pandas) (2.8.2)\n",
      "Requirement already satisfied: pytz>=2020.1 in ./anaconda3/lib/python3.10/site-packages (from pandas) (2022.7)\n",
      "Requirement already satisfied: numpy>=1.21.0 in ./anaconda3/lib/python3.10/site-packages (from pandas) (1.23.5)\n",
      "Requirement already satisfied: six>=1.5 in ./anaconda3/lib/python3.10/site-packages (from python-dateutil>=2.8.1->pandas) (1.16.0)\n",
      "Note: you may need to restart the kernel to use updated packages.\n",
      "Requirement already satisfied: numpy in ./anaconda3/lib/python3.10/site-packages (1.23.5)\n",
      "Note: you may need to restart the kernel to use updated packages.\n"
     ]
    }
   ],
   "source": [
    "%pip install pandas\n",
    "import pandas as pd\n",
    "%pip install numpy\n",
    "import numpy as np"
   ]
  },
  {
   "cell_type": "code",
   "execution_count": 5,
   "id": "4d9702e8-f7bd-484b-b555-6e1cd583e1fe",
   "metadata": {},
   "outputs": [],
   "source": [
    "texts=pd.read_csv('cleaned_twitter_corpus_lemmatized_without_stopwords.csv')"
   ]
  },
  {
   "cell_type": "code",
   "execution_count": 6,
   "id": "3350e8d5-bb1c-4f94-bddb-1256be04791f",
   "metadata": {},
   "outputs": [],
   "source": [
    "subset=np.array(list(texts['tweet'][0:1000]))"
   ]
  },
  {
   "cell_type": "code",
   "execution_count": 7,
   "id": "c5dc2c70-a520-4ea0-8325-cfc87720f159",
   "metadata": {},
   "outputs": [],
   "source": [
    "tweets=np.array(list(texts['tweet']))"
   ]
  },
  {
   "cell_type": "code",
   "execution_count": 26,
   "id": "88d9e2c0-83d3-4a2f-a3c4-7524a6a4d2af",
   "metadata": {},
   "outputs": [
    {
     "name": "stdout",
     "output_type": "stream",
     "text": [
      "Calculating unique words.\n",
      "Initialising mixture components\n",
      "Fitting model\n",
      " Iteration 0/30: transferred 6320 documents,6 clusters remain populated.\n",
      " Iteration 1/30: transferred 3803 documents,6 clusters remain populated.\n",
      " Iteration 2/30: transferred 2898 documents,6 clusters remain populated.\n",
      " Iteration 3/30: transferred 2613 documents,6 clusters remain populated.\n",
      " Iteration 4/30: transferred 2379 documents,6 clusters remain populated.\n",
      " Iteration 5/30: transferred 2286 documents,6 clusters remain populated.\n",
      " Iteration 6/30: transferred 2190 documents,6 clusters remain populated.\n",
      " Iteration 7/30: transferred 2133 documents,6 clusters remain populated.\n",
      " Iteration 8/30: transferred 2090 documents,6 clusters remain populated.\n",
      " Iteration 9/30: transferred 1998 documents,6 clusters remain populated.\n",
      " Iteration 10/30: transferred 1923 documents,6 clusters remain populated.\n",
      " Iteration 11/30: transferred 1935 documents,6 clusters remain populated.\n",
      " Iteration 12/30: transferred 1873 documents,6 clusters remain populated.\n",
      " Iteration 13/30: transferred 1855 documents,6 clusters remain populated.\n",
      " Iteration 14/30: transferred 1802 documents,6 clusters remain populated.\n",
      " Iteration 15/30: transferred 1823 documents,6 clusters remain populated.\n",
      " Iteration 16/30: transferred 1766 documents,6 clusters remain populated.\n",
      " Iteration 17/30: transferred 1740 documents,6 clusters remain populated.\n",
      " Iteration 18/30: transferred 1730 documents,6 clusters remain populated.\n",
      " Iteration 19/30: transferred 1703 documents,6 clusters remain populated.\n",
      " Iteration 20/30: transferred 1687 documents,6 clusters remain populated.\n",
      " Iteration 21/30: transferred 1694 documents,6 clusters remain populated.\n",
      " Iteration 22/30: transferred 1700 documents,6 clusters remain populated.\n",
      " Iteration 23/30: transferred 1611 documents,6 clusters remain populated.\n",
      " Iteration 24/30: transferred 1579 documents,6 clusters remain populated.\n",
      " Iteration 25/30: transferred 1612 documents,6 clusters remain populated.\n",
      " Iteration 26/30: transferred 1652 documents,6 clusters remain populated.\n",
      " Iteration 27/30: transferred 1582 documents,6 clusters remain populated.\n",
      " Iteration 28/30: transferred 1577 documents,6 clusters remain populated.\n",
      " Iteration 29/30: transferred 1575 documents,6 clusters remain populated.\n"
     ]
    },
    {
     "data": {
      "text/html": [
       "<style>#sk-container-id-2 {color: black;background-color: white;}#sk-container-id-2 pre{padding: 0;}#sk-container-id-2 div.sk-toggleable {background-color: white;}#sk-container-id-2 label.sk-toggleable__label {cursor: pointer;display: block;width: 100%;margin-bottom: 0;padding: 0.3em;box-sizing: border-box;text-align: center;}#sk-container-id-2 label.sk-toggleable__label-arrow:before {content: \"▸\";float: left;margin-right: 0.25em;color: #696969;}#sk-container-id-2 label.sk-toggleable__label-arrow:hover:before {color: black;}#sk-container-id-2 div.sk-estimator:hover label.sk-toggleable__label-arrow:before {color: black;}#sk-container-id-2 div.sk-toggleable__content {max-height: 0;max-width: 0;overflow: hidden;text-align: left;background-color: #f0f8ff;}#sk-container-id-2 div.sk-toggleable__content pre {margin: 0.2em;color: black;border-radius: 0.25em;background-color: #f0f8ff;}#sk-container-id-2 input.sk-toggleable__control:checked~div.sk-toggleable__content {max-height: 200px;max-width: 100%;overflow: auto;}#sk-container-id-2 input.sk-toggleable__control:checked~label.sk-toggleable__label-arrow:before {content: \"▾\";}#sk-container-id-2 div.sk-estimator input.sk-toggleable__control:checked~label.sk-toggleable__label {background-color: #d4ebff;}#sk-container-id-2 div.sk-label input.sk-toggleable__control:checked~label.sk-toggleable__label {background-color: #d4ebff;}#sk-container-id-2 input.sk-hidden--visually {border: 0;clip: rect(1px 1px 1px 1px);clip: rect(1px, 1px, 1px, 1px);height: 1px;margin: -1px;overflow: hidden;padding: 0;position: absolute;width: 1px;}#sk-container-id-2 div.sk-estimator {font-family: monospace;background-color: #f0f8ff;border: 1px dotted black;border-radius: 0.25em;box-sizing: border-box;margin-bottom: 0.5em;}#sk-container-id-2 div.sk-estimator:hover {background-color: #d4ebff;}#sk-container-id-2 div.sk-parallel-item::after {content: \"\";width: 100%;border-bottom: 1px solid gray;flex-grow: 1;}#sk-container-id-2 div.sk-label:hover label.sk-toggleable__label {background-color: #d4ebff;}#sk-container-id-2 div.sk-serial::before {content: \"\";position: absolute;border-left: 1px solid gray;box-sizing: border-box;top: 0;bottom: 0;left: 50%;z-index: 0;}#sk-container-id-2 div.sk-serial {display: flex;flex-direction: column;align-items: center;background-color: white;padding-right: 0.2em;padding-left: 0.2em;position: relative;}#sk-container-id-2 div.sk-item {position: relative;z-index: 1;}#sk-container-id-2 div.sk-parallel {display: flex;align-items: stretch;justify-content: center;background-color: white;position: relative;}#sk-container-id-2 div.sk-item::before, #sk-container-id-2 div.sk-parallel-item::before {content: \"\";position: absolute;border-left: 1px solid gray;box-sizing: border-box;top: 0;bottom: 0;left: 50%;z-index: -1;}#sk-container-id-2 div.sk-parallel-item {display: flex;flex-direction: column;z-index: 1;position: relative;background-color: white;}#sk-container-id-2 div.sk-parallel-item:first-child::after {align-self: flex-end;width: 50%;}#sk-container-id-2 div.sk-parallel-item:last-child::after {align-self: flex-start;width: 50%;}#sk-container-id-2 div.sk-parallel-item:only-child::after {width: 0;}#sk-container-id-2 div.sk-dashed-wrapped {border: 1px dashed gray;margin: 0 0.4em 0.5em 0.4em;box-sizing: border-box;padding-bottom: 0.4em;background-color: white;}#sk-container-id-2 div.sk-label label {font-family: monospace;font-weight: bold;display: inline-block;line-height: 1.2em;}#sk-container-id-2 div.sk-label-container {text-align: center;}#sk-container-id-2 div.sk-container {/* jupyter's `normalize.less` sets `[hidden] { display: none; }` but bootstrap.min.css set `[hidden] { display: none !important; }` so we also need the `!important` here to be able to override the default hidden behavior on the sphinx rendered scikit-learn.org. See: https://github.com/scikit-learn/scikit-learn/issues/21755 */display: inline-block !important;position: relative;}#sk-container-id-2 div.sk-text-repr-fallback {display: none;}</style><div id=\"sk-container-id-2\" class=\"sk-top-container\"><div class=\"sk-text-repr-fallback\"><pre>Pipeline(steps=[(&#x27;vectorizer&#x27;, CountVectorizer(max_df=0.9, min_df=5)),\n",
       "                (&#x27;dmm&#x27;, DMM(n_components=6))])</pre><b>In a Jupyter environment, please rerun this cell to show the HTML representation or trust the notebook. <br />On GitHub, the HTML representation is unable to render, please try loading this page with nbviewer.org.</b></div><div class=\"sk-container\" hidden><div class=\"sk-item sk-dashed-wrapped\"><div class=\"sk-label-container\"><div class=\"sk-label sk-toggleable\"><input class=\"sk-toggleable__control sk-hidden--visually\" id=\"sk-estimator-id-4\" type=\"checkbox\" ><label for=\"sk-estimator-id-4\" class=\"sk-toggleable__label sk-toggleable__label-arrow\">Pipeline</label><div class=\"sk-toggleable__content\"><pre>Pipeline(steps=[(&#x27;vectorizer&#x27;, CountVectorizer(max_df=0.9, min_df=5)),\n",
       "                (&#x27;dmm&#x27;, DMM(n_components=6))])</pre></div></div></div><div class=\"sk-serial\"><div class=\"sk-item\"><div class=\"sk-estimator sk-toggleable\"><input class=\"sk-toggleable__control sk-hidden--visually\" id=\"sk-estimator-id-5\" type=\"checkbox\" ><label for=\"sk-estimator-id-5\" class=\"sk-toggleable__label sk-toggleable__label-arrow\">CountVectorizer</label><div class=\"sk-toggleable__content\"><pre>CountVectorizer(max_df=0.9, min_df=5)</pre></div></div></div><div class=\"sk-item\"><div class=\"sk-estimator sk-toggleable\"><input class=\"sk-toggleable__control sk-hidden--visually\" id=\"sk-estimator-id-6\" type=\"checkbox\" ><label for=\"sk-estimator-id-6\" class=\"sk-toggleable__label sk-toggleable__label-arrow\">DMM</label><div class=\"sk-toggleable__content\"><pre>DMM(n_components=6)</pre></div></div></div></div></div></div></div>"
      ],
      "text/plain": [
       "Pipeline(steps=[('vectorizer', CountVectorizer(max_df=0.9, min_df=5)),\n",
       "                ('dmm', DMM(n_components=6))])"
      ]
     },
     "execution_count": 26,
     "metadata": {},
     "output_type": "execute_result"
    }
   ],
   "source": [
    "pipeline.fit(tweets)"
   ]
  },
  {
   "cell_type": "code",
   "execution_count": 17,
   "id": "01ee8a18-1f58-42ab-99e2-492d206d7373",
   "metadata": {},
   "outputs": [
    {
     "name": "stdout",
     "output_type": "stream",
     "text": [
      "Requirement already satisfied: scipy==1.10.1 in ./anaconda3/lib/python3.10/site-packages (1.10.1)\n",
      "Requirement already satisfied: numpy<1.27.0,>=1.19.5 in ./anaconda3/lib/python3.10/site-packages (from scipy==1.10.1) (1.23.5)\n"
     ]
    }
   ],
   "source": [
    "!pip install scipy==1.10.1"
   ]
  },
  {
   "cell_type": "code",
   "execution_count": 18,
   "id": "d5f37709-fb89-45ac-998e-dc3b8bf7a9d8",
   "metadata": {},
   "outputs": [],
   "source": [
    "import scipy"
   ]
  },
  {
   "cell_type": "code",
   "execution_count": 20,
   "id": "de5de5c6-839e-4bd4-b989-3524969b2a0f",
   "metadata": {},
   "outputs": [
    {
     "data": {
      "text/plain": [
       "'1.10.0'"
      ]
     },
     "execution_count": 20,
     "metadata": {},
     "output_type": "execute_result"
    }
   ],
   "source": [
    "scipy.__version__"
   ]
  },
  {
   "cell_type": "code",
   "execution_count": 21,
   "id": "8649d35e-5f26-48a6-87cd-aa736755c23d",
   "metadata": {},
   "outputs": [
    {
     "name": "stdout",
     "output_type": "stream",
     "text": [
      "Collecting topic-wizard\n",
      "  Downloading topic_wizard-0.2.2-py3-none-any.whl (74 kB)\n",
      "\u001b[2K     \u001b[90m━━━━━━━━━━━━━━━━━━━━━━━━━━━━━━━━━━━━━━━━\u001b[0m \u001b[32m74.1/74.1 kB\u001b[0m \u001b[31m2.0 MB/s\u001b[0m eta \u001b[36m0:00:00\u001b[0m\n",
      "\u001b[?25hCollecting dash-extensions<0.2.0,>=0.1.10\n",
      "  Downloading dash_extensions-0.1.13-py3-none-any.whl (1.4 MB)\n",
      "\u001b[2K     \u001b[90m━━━━━━━━━━━━━━━━━━━━━━━━━━━━━━━━━━━━━━━━\u001b[0m \u001b[32m1.4/1.4 MB\u001b[0m \u001b[31m9.9 MB/s\u001b[0m eta \u001b[36m0:00:00\u001b[0mta \u001b[36m0:00:01\u001b[0m\n",
      "\u001b[?25hCollecting dash-mantine-components<0.12.0,>=0.11.1\n",
      "  Downloading dash_mantine_components-0.11.1-py3-none-any.whl (443 kB)\n",
      "\u001b[2K     \u001b[90m━━━━━━━━━━━━━━━━━━━━━━━━━━━━━━━━━━━━━━━\u001b[0m \u001b[32m443.1/443.1 kB\u001b[0m \u001b[31m9.1 MB/s\u001b[0m eta \u001b[36m0:00:00\u001b[0m00:01\u001b[0m\n",
      "\u001b[?25hCollecting dash-iconify<0.2.0,>=0.1.2\n",
      "  Downloading dash_iconify-0.1.2-py3-none-any.whl (18 kB)\n",
      "Requirement already satisfied: pandas<1.6.0,>=1.5.2 in ./anaconda3/lib/python3.10/site-packages (from topic-wizard) (1.5.3)\n",
      "Collecting dash<2.8.0,>=2.7.1\n",
      "  Downloading dash-2.7.1-py3-none-any.whl (9.9 MB)\n",
      "\u001b[2K     \u001b[90m━━━━━━━━━━━━━━━━━━━━━━━━━━━━━━━━━━━━━━━━\u001b[0m \u001b[32m9.9/9.9 MB\u001b[0m \u001b[31m11.5 MB/s\u001b[0m eta \u001b[36m0:00:00\u001b[0m00:01\u001b[0m00:01\u001b[0m\n",
      "\u001b[?25hRequirement already satisfied: scikit-learn<1.3.0,>=1.2.0 in ./anaconda3/lib/python3.10/site-packages (from topic-wizard) (1.2.1)\n",
      "Collecting wordcloud<1.9.0.0,>=1.8.2.2\n",
      "  Downloading wordcloud-1.8.2.2-cp310-cp310-macosx_10_9_x86_64.whl (160 kB)\n",
      "\u001b[2K     \u001b[90m━━━━━━━━━━━━━━━━━━━━━━━━━━━━━━━━━━━━━━━\u001b[0m \u001b[32m160.5/160.5 kB\u001b[0m \u001b[31m8.7 MB/s\u001b[0m eta \u001b[36m0:00:00\u001b[0m\n",
      "\u001b[?25hRequirement already satisfied: numpy>=1.22.0 in ./anaconda3/lib/python3.10/site-packages (from topic-wizard) (1.23.5)\n",
      "Collecting joblib<1.3.0,>=1.2.0\n",
      "  Downloading joblib-1.2.0-py3-none-any.whl (297 kB)\n",
      "\u001b[2K     \u001b[90m━━━━━━━━━━━━━━━━━━━━━━━━━━━━━━━━━━━━━━━\u001b[0m \u001b[32m298.0/298.0 kB\u001b[0m \u001b[31m9.1 MB/s\u001b[0m eta \u001b[36m0:00:00\u001b[0m\n",
      "\u001b[?25hCollecting dash-table==5.0.0\n",
      "  Downloading dash_table-5.0.0-py3-none-any.whl (3.9 kB)\n",
      "Collecting dash-core-components==2.0.0\n",
      "  Downloading dash_core_components-2.0.0-py3-none-any.whl (3.8 kB)\n",
      "Requirement already satisfied: plotly>=5.0.0 in ./anaconda3/lib/python3.10/site-packages (from dash<2.8.0,>=2.7.1->topic-wizard) (5.9.0)\n",
      "Requirement already satisfied: Flask>=1.0.4 in ./anaconda3/lib/python3.10/site-packages (from dash<2.8.0,>=2.7.1->topic-wizard) (2.2.2)\n",
      "Collecting dash-html-components==2.0.0\n",
      "  Downloading dash_html_components-2.0.0-py3-none-any.whl (4.1 kB)\n",
      "Collecting jsbeautifier<2.0.0,>=1.14.3\n",
      "  Downloading jsbeautifier-1.14.7.tar.gz (74 kB)\n",
      "\u001b[2K     \u001b[90m━━━━━━━━━━━━━━━━━━━━━━━━━━━━━━━━━━━━━━━━\u001b[0m \u001b[32m74.6/74.6 kB\u001b[0m \u001b[31m7.5 MB/s\u001b[0m eta \u001b[36m0:00:00\u001b[0m\n",
      "\u001b[?25h  Installing build dependencies ... \u001b[?25ldone\n",
      "\u001b[?25h  Getting requirements to build wheel ... \u001b[?25ldone\n",
      "\u001b[?25h  Preparing metadata (pyproject.toml) ... \u001b[?25ldone\n",
      "\u001b[?25hCollecting more-itertools<10.0.0,>=9.0.0\n",
      "  Downloading more_itertools-9.1.0-py3-none-any.whl (54 kB)\n",
      "\u001b[2K     \u001b[90m━━━━━━━━━━━━━━━━━━━━━━━━━━━━━━━━━━━━━━━━\u001b[0m \u001b[32m54.2/54.2 kB\u001b[0m \u001b[31m5.7 MB/s\u001b[0m eta \u001b[36m0:00:00\u001b[0m\n",
      "\u001b[?25hCollecting dash-extensions<0.2.0,>=0.1.10\n",
      "  Downloading dash_extensions-0.1.12-py3-none-any.whl (1.4 MB)\n",
      "\u001b[2K     \u001b[90m━━━━━━━━━━━━━━━━━━━━━━━━━━━━━━━━━━━━━━━━\u001b[0m \u001b[32m1.4/1.4 MB\u001b[0m \u001b[31m10.8 MB/s\u001b[0m eta \u001b[36m0:00:00\u001b[0m00:01\u001b[0m00:01\u001b[0m\n",
      "\u001b[?25h  Downloading dash_extensions-0.1.11-py3-none-any.whl (1.4 MB)\n",
      "\u001b[2K     \u001b[90m━━━━━━━━━━━━━━━━━━━━━━━━━━━━━━━━━━━━━━━━\u001b[0m \u001b[32m1.4/1.4 MB\u001b[0m \u001b[31m11.6 MB/s\u001b[0m eta \u001b[36m0:00:00\u001b[0m00:01\u001b[0m00:01\u001b[0m\n",
      "\u001b[?25hCollecting more-itertools<9.0.0,>=8.12.0\n",
      "  Downloading more_itertools-8.14.0-py3-none-any.whl (52 kB)\n",
      "\u001b[2K     \u001b[90m━━━━━━━━━━━━━━━━━━━━━━━━━━━━━━━━━━━━━━━━\u001b[0m \u001b[32m52.2/52.2 kB\u001b[0m \u001b[31m3.8 MB/s\u001b[0m eta \u001b[36m0:00:00\u001b[0m\n",
      "\u001b[?25hCollecting Flask-Caching==2.0.1\n",
      "  Downloading Flask_Caching-2.0.1-py3-none-any.whl (28 kB)\n",
      "Collecting cachelib>=0.9.0\n",
      "  Downloading cachelib-0.10.2-py3-none-any.whl (18 kB)\n",
      "Requirement already satisfied: python-dateutil>=2.8.1 in ./anaconda3/lib/python3.10/site-packages (from pandas<1.6.0,>=1.5.2->topic-wizard) (2.8.2)\n",
      "Requirement already satisfied: pytz>=2020.1 in ./anaconda3/lib/python3.10/site-packages (from pandas<1.6.0,>=1.5.2->topic-wizard) (2022.7)\n",
      "Requirement already satisfied: scipy>=1.3.2 in ./anaconda3/lib/python3.10/site-packages (from scikit-learn<1.3.0,>=1.2.0->topic-wizard) (1.10.1)\n",
      "Requirement already satisfied: threadpoolctl>=2.0.0 in ./anaconda3/lib/python3.10/site-packages (from scikit-learn<1.3.0,>=1.2.0->topic-wizard) (2.2.0)\n",
      "Requirement already satisfied: pillow in ./anaconda3/lib/python3.10/site-packages (from wordcloud<1.9.0.0,>=1.8.2.2->topic-wizard) (9.4.0)\n",
      "Requirement already satisfied: matplotlib in ./anaconda3/lib/python3.10/site-packages (from wordcloud<1.9.0.0,>=1.8.2.2->topic-wizard) (3.7.0)\n",
      "Requirement already satisfied: itsdangerous>=2.0 in ./anaconda3/lib/python3.10/site-packages (from Flask>=1.0.4->dash<2.8.0,>=2.7.1->topic-wizard) (2.0.1)\n",
      "Requirement already satisfied: Werkzeug>=2.2.2 in ./anaconda3/lib/python3.10/site-packages (from Flask>=1.0.4->dash<2.8.0,>=2.7.1->topic-wizard) (2.2.2)\n",
      "Requirement already satisfied: Jinja2>=3.0 in ./anaconda3/lib/python3.10/site-packages (from Flask>=1.0.4->dash<2.8.0,>=2.7.1->topic-wizard) (3.1.2)\n",
      "Requirement already satisfied: click>=8.0 in ./anaconda3/lib/python3.10/site-packages (from Flask>=1.0.4->dash<2.8.0,>=2.7.1->topic-wizard) (8.0.4)\n",
      "Requirement already satisfied: six>=1.13.0 in ./anaconda3/lib/python3.10/site-packages (from jsbeautifier<2.0.0,>=1.14.3->dash-extensions<0.2.0,>=0.1.10->topic-wizard) (1.16.0)\n",
      "Collecting editorconfig>=0.12.2\n",
      "  Downloading EditorConfig-0.12.3-py3-none-any.whl (16 kB)\n",
      "Requirement already satisfied: tenacity>=6.2.0 in ./anaconda3/lib/python3.10/site-packages (from plotly>=5.0.0->dash<2.8.0,>=2.7.1->topic-wizard) (8.0.1)\n",
      "Requirement already satisfied: cycler>=0.10 in ./anaconda3/lib/python3.10/site-packages (from matplotlib->wordcloud<1.9.0.0,>=1.8.2.2->topic-wizard) (0.11.0)\n",
      "Requirement already satisfied: fonttools>=4.22.0 in ./anaconda3/lib/python3.10/site-packages (from matplotlib->wordcloud<1.9.0.0,>=1.8.2.2->topic-wizard) (4.25.0)\n",
      "Requirement already satisfied: packaging>=20.0 in ./anaconda3/lib/python3.10/site-packages (from matplotlib->wordcloud<1.9.0.0,>=1.8.2.2->topic-wizard) (22.0)\n",
      "Requirement already satisfied: pyparsing>=2.3.1 in ./anaconda3/lib/python3.10/site-packages (from matplotlib->wordcloud<1.9.0.0,>=1.8.2.2->topic-wizard) (3.0.9)\n",
      "Requirement already satisfied: kiwisolver>=1.0.1 in ./anaconda3/lib/python3.10/site-packages (from matplotlib->wordcloud<1.9.0.0,>=1.8.2.2->topic-wizard) (1.4.4)\n",
      "Requirement already satisfied: contourpy>=1.0.1 in ./anaconda3/lib/python3.10/site-packages (from matplotlib->wordcloud<1.9.0.0,>=1.8.2.2->topic-wizard) (1.0.5)\n",
      "Requirement already satisfied: MarkupSafe>=2.0 in ./anaconda3/lib/python3.10/site-packages (from Jinja2>=3.0->Flask>=1.0.4->dash<2.8.0,>=2.7.1->topic-wizard) (2.1.1)\n",
      "Building wheels for collected packages: jsbeautifier\n",
      "  Building wheel for jsbeautifier (pyproject.toml) ... \u001b[?25ldone\n",
      "\u001b[?25h  Created wheel for jsbeautifier: filename=jsbeautifier-1.14.7-py3-none-any.whl size=93560 sha256=ca0a25e116b2526496b37f3f99cec375dbaccf0d3988cde09930ac80dcccba44\n",
      "  Stored in directory: /Users/alexanderdettling/Library/Caches/pip/wheels/a5/a4/da/e6adb0a71ea4ac3caa344781b687cc8463f06b7c20dd2b5310\n",
      "Successfully built jsbeautifier\n",
      "Installing collected packages: editorconfig, dash-table, dash-mantine-components, dash-iconify, dash-html-components, dash-core-components, more-itertools, jsbeautifier, joblib, cachelib, wordcloud, Flask-Caching, dash, dash-extensions, topic-wizard\n",
      "  Attempting uninstall: joblib\n",
      "    Found existing installation: joblib 1.1.1\n",
      "    Uninstalling joblib-1.1.1:\n",
      "      Successfully uninstalled joblib-1.1.1\n",
      "Successfully installed Flask-Caching-2.0.1 cachelib-0.10.2 dash-2.7.1 dash-core-components-2.0.0 dash-extensions-0.1.11 dash-html-components-2.0.0 dash-iconify-0.1.2 dash-mantine-components-0.11.1 dash-table-5.0.0 editorconfig-0.12.3 joblib-1.2.0 jsbeautifier-1.14.7 more-itertools-8.14.0 topic-wizard-0.2.2 wordcloud-1.8.2.2\n",
      "Note: you may need to restart the kernel to use updated packages.\n"
     ]
    }
   ],
   "source": [
    "%pip install topic-wizard"
   ]
  },
  {
   "cell_type": "code",
   "execution_count": 22,
   "id": "8fd0d579-ea23-4653-b17b-662d25fd161e",
   "metadata": {},
   "outputs": [],
   "source": [
    "import topicwizard"
   ]
  },
  {
   "cell_type": "code",
   "execution_count": 28,
   "id": "34f888f7-266e-40f3-a00e-cfbcf68cead7",
   "metadata": {},
   "outputs": [
    {
     "name": "stdout",
     "output_type": "stream",
     "text": [
      "Preprocessing\n",
      "Dash is running on http://127.0.0.1:8098/\n",
      "\n",
      "Dash is running on http://127.0.0.1:8098/\n",
      "\n",
      "Dash is running on http://127.0.0.1:8098/\n",
      "\n",
      " * Serving Flask app 'topicwizard.app'\n",
      " * Debug mode: off\n"
     ]
    },
    {
     "data": {
      "text/html": [
       "\n",
       "        <iframe\n",
       "            width=\"1200\"\n",
       "            height=\"1000\"\n",
       "            src=\"http://127.0.0.1:8098/\"\n",
       "            frameborder=\"0\"\n",
       "            allowfullscreen\n",
       "            \n",
       "        ></iframe>\n",
       "        "
      ],
      "text/plain": [
       "<IPython.lib.display.IFrame at 0x7fcfc8f3f220>"
      ]
     },
     "metadata": {},
     "output_type": "display_data"
    },
    {
     "data": {
      "text/plain": [
       "<Thread(Thread-175 (_run_silent), started 13208891392)>"
      ]
     },
     "execution_count": 28,
     "metadata": {},
     "output_type": "execute_result"
    }
   ],
   "source": [
    "topicwizard.visualize(pipeline=pipeline, corpus=tweets,port=8098)"
   ]
  },
  {
   "cell_type": "code",
   "execution_count": null,
   "id": "23781835-c52d-472d-9acd-01414b2b5ba7",
   "metadata": {},
   "outputs": [],
   "source": []
  }
 ],
 "metadata": {
  "kernelspec": {
   "display_name": "Python 3 (ipykernel)",
   "language": "python",
   "name": "python3"
  },
  "language_info": {
   "codemirror_mode": {
    "name": "ipython",
    "version": 3
   },
   "file_extension": ".py",
   "mimetype": "text/x-python",
   "name": "python",
   "nbconvert_exporter": "python",
   "pygments_lexer": "ipython3",
   "version": "3.10.9"
  }
 },
 "nbformat": 4,
 "nbformat_minor": 5
}
